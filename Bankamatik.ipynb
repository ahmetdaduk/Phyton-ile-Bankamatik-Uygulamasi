{
 "cells": [
  {
   "cell_type": "code",
   "execution_count": null,
   "id": "f90e03e8",
   "metadata": {},
   "outputs": [],
   "source": [
    "AhmetHesap={\n",
    "    'hesapadı': 'Ahmet Dadük',\n",
    "    'hesapno' : '12384946',\n",
    "    'bakiye': 7000,\n",
    "    'ekhesap': 2000\n",
    "}\n",
    "    \n",
    "OkanHesap={\n",
    "    'hesapadı':\"Okan Cebrail Dadük\",\n",
    "    'hesapno':\"12456946\",\n",
    "    'bakiye': 5000,\n",
    "    'ekhesap':1000\n",
    "    }\n",
    "\n",
    "def paraCekme(hesap,miktar):\n",
    "    print(f\"Merhaba {hesap['hesapadı']}\")\n",
    "    #kalanbakiye=(hesap['bakiye']-miktar)\n",
    "    #kalanekhesap=((hesap['bakiye']-miktar)+(hesap['ekhesap'])\n",
    "    \n",
    "    if (hesap['bakiye']>=miktar):\n",
    "        kalanbakiye=(hesap['bakiye']-miktar)\n",
    "        (hesap['bakiye'])-=miktar# bakiye güncelleme\n",
    "        print(f\"Paranızı alabilirsiniz. Kalan bakiye: {hesap['bakiye']} TL. Ek hesap bakiyeniz: {hesap['ekhesap']} TL\")\n",
    "    else:\n",
    "        toplam=(hesap['bakiye']+hesap['ekhesap'])\n",
    "        if (toplam>=miktar):\n",
    "            ekhesapKullanımı=input(\"Ekhesap kullanılsın mı? (e/h)\")\n",
    "            if ekhesapKullanımı== \"e\":\n",
    "                kullanılacakEkhesap=miktar-(hesap['bakiye'])\n",
    "                #kalanekhesap=(hesap['ekhesap'])-kullanılacakEkhesap\n",
    "                (hesap['ekhesap'])-=kullanılacakEkhesap\n",
    "                (hesap['bakiye'])=0\n",
    "                print(f\"Paranızı alabilirsiniz. Kalan bakiyeniz 0 TL. Ek hesabınızdaki kalan bakiye: {hesap['ekhesap']} TL\")\n",
    "            else:\n",
    "                print(f\"Üzgünüm işleminizi gerçekleştiremiyorum. Hesabınızdaki tutar: {hesap['bakiye']} TL\")\n",
    "        else:\n",
    "            print(f\"Bakiye yetersiz. Bakiyeniz: {hesap['bakiye']} TL. Ek hesap bakiyeniz: {hesap['ekhesap']} TL\")\n",
    "paraCekme(AhmetHesap,6000)\n",
    "paraCekme(OkanHesap,5500)\n",
    "paraCekme(AhmetHesap,3000)\n",
    "paraCekme(OkanHesap,500)\n",
    "#paraCekme(AhmetHesap,3000)\n",
    "def hesapSorgulama(hesap):\n",
    "    print(f\" Hesap {hesap['hesapno']} lu hesabınızda {hesap['bakiye']} TL kalmıştır.\")\n",
    "hesapSorgulama(AhmetHesap)\n",
    "hesapSorgulama(OkanHesap)\n",
    "def ekhesapSorgulama(hesap):\n",
    "    print(f\"Ek hesabınızda kalan tutar: {hesap['ekhesap']}\")\n",
    "ekhesapSorgulama(AhmetHesap)\n",
    "ekhesapSorgulama(OkanHesap)"
   ]
  }
 ],
 "metadata": {
  "kernelspec": {
   "display_name": "Python 3 (ipykernel)",
   "language": "python",
   "name": "python3"
  },
  "language_info": {
   "codemirror_mode": {
    "name": "ipython",
    "version": 3
   },
   "file_extension": ".py",
   "mimetype": "text/x-python",
   "name": "python",
   "nbconvert_exporter": "python",
   "pygments_lexer": "ipython3",
   "version": "3.9.13"
  }
 },
 "nbformat": 4,
 "nbformat_minor": 5
}
